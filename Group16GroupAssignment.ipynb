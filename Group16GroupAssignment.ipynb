{
 "cells": [
  {
   "cell_type": "markdown",
   "id": "32ad91bb",
   "metadata": {},
   "source": [
    "# Group-16 Project: Analyzing Canadian business travel trends pre, during, and post covid pandemic\n",
    "\n",
    "**Contributors: xxxx, xxxx** <br>\n",
    "**2023**"
   ]
  },
  {
   "cell_type": "markdown",
   "id": "56f2493c",
   "metadata": {},
   "source": [
    "### Objectives: What are the goals of the analysis and why did you choose them? What question(s) do you want to answer? What hypothesis(es) do you have and what is your approach to tackle the problem?\n",
    "Travel went down during the pandemic\n",
    "Did it come back up?\n",
    "Prices are higher / lower? Now / before / during\n",
    "CEO / high level roles spend more on fare + other expenses\n",
    "Big cities will be most popular destinations and departure\n",
    "Time of travel will be concentrated in spring and summer\n",
    "\n",
    "### Data Preparation: What was your data source (e.g., web scraping, corporate data, a standard machine learning data set, open data, etc.)? How good was the data quality? What did you need to do to procure it? What tools or code did you need to use to prepare it for analysis? What challenges did you face?\n",
    "Data source: \n",
    "https://open.canada.ca/data/en/dataset/009f9a49-c2d9-4d29-a6d4-1a228da335ce\n",
    "Data and Resources\n",
    "Proactive Disclosure - Travel Expenses\n",
    "\n",
    "\n",
    "Decide on years of analysis - 2003 - 2023\n",
    "\n",
    "\n",
    "Will need to do a lot of data cleaning\n",
    "Location info \n",
    "Add related feature data such as CPI(Consumer price index), holiday for correlation analysis\n"
   ]
  },
  {
   "cell_type": "code",
   "execution_count": 6,
   "id": "e43b1c57",
   "metadata": {},
   "outputs": [
    {
     "name": "stdout",
     "output_type": "stream",
     "text": [
      "<class 'pandas.core.frame.DataFrame'>\n",
      "RangeIndex: 87129 entries, 0 to 87128\n",
      "Data columns (total 21 columns):\n",
      " #   Column                  Non-Null Count  Dtype  \n",
      "---  ------                  --------------  -----  \n",
      " 0   ref_number              87128 non-null  object \n",
      " 1   disclosure_group        65485 non-null  object \n",
      " 2   title_en                86421 non-null  object \n",
      " 3   title_fr                86399 non-null  object \n",
      " 4   name                    86581 non-null  object \n",
      " 5   purpose_en              87114 non-null  object \n",
      " 6   purpose_fr              87044 non-null  object \n",
      " 7   start_date              87129 non-null  object \n",
      " 8   end_date                86325 non-null  object \n",
      " 9   destination_en          86756 non-null  object \n",
      " 10  destination_fr          86443 non-null  object \n",
      " 11  airfare                 83388 non-null  float64\n",
      " 12  other_transport         85050 non-null  float64\n",
      " 13  lodging                 84669 non-null  float64\n",
      " 14  meals                   85929 non-null  float64\n",
      " 15  other_expenses          78920 non-null  float64\n",
      " 16  total                   86940 non-null  float64\n",
      " 17  additional_comments_en  10755 non-null  object \n",
      " 18  additional_comments_fr  9856 non-null   object \n",
      " 19  owner_org               87129 non-null  object \n",
      " 20  owner_org_title         87129 non-null  object \n",
      "dtypes: float64(6), object(15)\n",
      "memory usage: 14.0+ MB\n"
     ]
    }
   ],
   "source": [
    "import pandas as pd\n",
    "\n",
    "url = 'https://open.canada.ca/data/dataset/009f9a49-c2d9-4d29-a6d4-1a228da335ce/resource/8282db2a-878f-475c-af10-ad56aa8fa72c/download/travelq.csv'\n",
    "\n",
    "travel_df = pd.read_csv(url)\n",
    "travel_df.info()"
   ]
  },
  {
   "cell_type": "markdown",
   "id": "82690f63",
   "metadata": {},
   "source": []
  },
  {
   "cell_type": "code",
   "execution_count": null,
   "id": "b6522e9f",
   "metadata": {},
   "outputs": [],
   "source": []
  }
 ],
 "metadata": {
  "kernelspec": {
   "display_name": "Python 3 (ipykernel)",
   "language": "python",
   "name": "python3"
  },
  "language_info": {
   "codemirror_mode": {
    "name": "ipython",
    "version": 3
   },
   "file_extension": ".py",
   "mimetype": "text/x-python",
   "name": "python",
   "nbconvert_exporter": "python",
   "pygments_lexer": "ipython3",
   "version": "3.11.3"
  }
 },
 "nbformat": 4,
 "nbformat_minor": 5
}
