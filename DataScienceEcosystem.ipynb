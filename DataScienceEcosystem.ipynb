{
 "cells": [
  {
   "cell_type": "markdown",
   "id": "0ba2db0a",
   "metadata": {},
   "source": [
    "# Data Science Tools and Ecosystem"
   ]
  },
  {
   "cell_type": "markdown",
   "id": "14a0e14d",
   "metadata": {},
   "source": [
    "In this notebook, Data Science Tools and Ecosystem are summarized."
   ]
  },
  {
   "cell_type": "markdown",
   "id": "6934f7b5",
   "metadata": {},
   "source": [
    "Some of the popular languages that Data Scientists use are:"
   ]
  },
  {
   "cell_type": "markdown",
   "id": "aa0ea106",
   "metadata": {},
   "source": [
    "1. Python;\n",
    "2. R;\n",
    "3. Julia."
   ]
  },
  {
   "cell_type": "markdown",
   "id": "2fd27ab3",
   "metadata": {},
   "source": [
    "Some of the commonly used libraries used by Data Scientists include:"
   ]
  },
  {
   "cell_type": "markdown",
   "id": "1c955f9d",
   "metadata": {},
   "source": [
    "1. dplyr\n",
    "2. stringr\n",
    "3. ggplot\n",
    "4. caret"
   ]
  },
  {
   "cell_type": "markdown",
   "id": "445b624e",
   "metadata": {},
   "source": [
    "|Data Science Tools|\n",
    "|------------------|\n",
    "|Anaconda          |\n",
    "|Pandas            |\n",
    "|Hadoop            |\n",
    "|Sparks|"
   ]
  },
  {
   "cell_type": "markdown",
   "id": "11a2fe1b",
   "metadata": {},
   "source": [
    "### Below are a few examples of evaluating arithmetic expressions in Python"
   ]
  },
  {
   "cell_type": "code",
   "execution_count": 6,
   "id": "7f29127b",
   "metadata": {},
   "outputs": [
    {
     "data": {
      "text/plain": [
       "17"
      ]
     },
     "execution_count": 6,
     "metadata": {},
     "output_type": "execute_result"
    }
   ],
   "source": [
    "#This a simple arithmetic expression to mutiply then add integers\n",
    "(3*4)+5"
   ]
  },
  {
   "cell_type": "code",
   "execution_count": 7,
   "id": "7373dcc7",
   "metadata": {},
   "outputs": [
    {
     "data": {
      "text/plain": [
       "3.3333333333333335"
      ]
     },
     "execution_count": 7,
     "metadata": {},
     "output_type": "execute_result"
    }
   ],
   "source": [
    "#This will convert 200 minutes to hours by diving by 60\n",
    "200/60"
   ]
  },
  {
   "cell_type": "markdown",
   "id": "0af9a23d",
   "metadata": {},
   "source": [
    "**Objectives:**\n",
    "* Create a Jupyter Notebook with markdown and code cells\n",
    "* List examples of languages, libraries and tools used in Data Science\n",
    "* Share your Jupyter Notebook publicly on GitHub\n",
    "* Evaluate notebooks submitted by your peers using the provided rubric\n",
    "* Demonstrate proficiency in Data Science toolkit knowledge"
   ]
  },
  {
   "cell_type": "markdown",
   "id": "0046e34c",
   "metadata": {},
   "source": [
    "  ## Author \n",
    "  Colin"
   ]
  },
  {
   "cell_type": "code",
   "execution_count": null,
   "id": "66fee5c2",
   "metadata": {},
   "outputs": [],
   "source": []
  }
 ],
 "metadata": {
  "kernelspec": {
   "display_name": "Python 3 (ipykernel)",
   "language": "python",
   "name": "python3"
  },
  "language_info": {
   "codemirror_mode": {
    "name": "ipython",
    "version": 3
   },
   "file_extension": ".py",
   "mimetype": "text/x-python",
   "name": "python",
   "nbconvert_exporter": "python",
   "pygments_lexer": "ipython3",
   "version": "3.10.9"
  }
 },
 "nbformat": 4,
 "nbformat_minor": 5
}
